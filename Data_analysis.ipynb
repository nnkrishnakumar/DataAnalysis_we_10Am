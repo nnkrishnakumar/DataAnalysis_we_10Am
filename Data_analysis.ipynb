{
 "cells": [
  {
   "cell_type": "code",
   "execution_count": 1,
   "id": "acb4efef-2f1c-4de6-8e25-f3e64a67fd71",
   "metadata": {},
   "outputs": [],
   "source": [
    "import statistics as s\n",
    "import matplotlib.pyplot as plt"
   ]
  },
  {
   "cell_type": "code",
   "execution_count": 4,
   "id": "763f3eb6-7fe0-403b-94b8-319031820059",
   "metadata": {},
   "outputs": [
    {
     "name": "stdout",
     "output_type": "stream",
     "text": [
      "Quantiles : [12500.0, 60000.0, 300000.0]\n"
     ]
    },
    {
     "data": {
      "image/png": "[encoded data removed]",
      "text/plain": [
       "<Figure size 432x288 with 1 Axes>"
      ]
     },
     "metadata": {
      "needs_background": "light"
     },
     "output_type": "display_data"
    },
    {
     "name": "stdout",
     "output_type": "stream",
     "text": [
      "Max_trend : 731250.0\n",
      "Min_Trend : -418750.0\n",
      "Salary : [5000, 15000, 40000, 80000, 200000, 600000]\n"
     ]
    }
   ],
   "source": [
    "exp=[1,3,5,7,9,11]\n",
    "salary=[5000,15000,40000,80000,200000,600000]\n",
    "print(\"Quantiles :\",s.quantiles(salary))\n",
    "q1,q2,q3=s.quantiles(salary)\n",
    "plt.scatter(salary,exp)\n",
    "\n",
    "plt.show()\n",
    "# Max_trend=Q3+1.5*(Q3-Q1)\n",
    "Max_trend=300000+1.5*(300000-12500)\n",
    "print(\"Max_trend :\",Max_trend)\n",
    "# Min_trend=Q1-1.5*(Q3-Q1)\n",
    "Min_trend=q1-1.5*(q3-q1)\n",
    "print(\"Min_Trend :\",Min_trend)\n",
    "print(\"Salary :\",salary)"
   ]
  },
  {
   "cell_type": "code",
   "execution_count": null,
   "id": "3af4065a-bc21-4f34-a435-7993c1fad5cc",
   "metadata": {},
   "outputs": [],
   "source": []
  },
  {
   "cell_type": "code",
   "execution_count": null,
   "id": "2b6b74af-16b8-49fa-b1c8-542b5ad6686d",
   "metadata": {},
   "outputs": [],
   "source": []
  },
  {
   "cell_type": "code",
   "execution_count": null,
   "id": "f326737e-841a-41ea-9e62-49555eef83c1",
   "metadata": {},
   "outputs": [],
   "source": []
  },
  {
   "cell_type": "markdown",
   "id": "8aedd741-fed8-4cdb-b176-f0bdee61ebd7",
   "metadata": {},
   "source": [
    "Mean\n",
    "\n",
    "> arithmetic mean  --> when observation are of same range. height of student of a class\n",
    "\n",
    "> geometric mean   --> when observation are not of same range. height of human and coconut tree.\n",
    "\n",
    "> harmonic mean  --> when observation are in the form of \"rate of change\" then we calculate harmonic mean.\n",
    "graphs\n",
    "\n",
    "Median\n",
    "\n",
    "Mode\n",
    "\n",
    "quantiles/quartiles(q1,q2,q3)\n",
    "\n",
    "Max_trend = Q3+1.5*(Q3-Q1) ---> IQR(Inter quantiles range)=Q3-Q1\n",
    "\n",
    "Min_trend = Q1+1.5*(Q3-Q1)\n",
    "\n",
    "standard deviation\n",
    "\n",
    "varience"
   ]
  },
  {
   "cell_type": "code",
   "execution_count": 5,
   "id": "9fa523e0-e7d4-438e-ab9d-be68f1ba5563",
   "metadata": {},
   "outputs": [
    {
     "name": "stdout",
     "output_type": "stream",
     "text": [
      "Quantiles : [7250.0, 9500.0, 158250.0]\n"
     ]
    },
    {
     "data": {
      "image/png": "[encoded data removed]",
      "text/plain": [
       "<Figure size 432x288 with 1 Axes>"
      ]
     },
     "metadata": {
      "needs_background": "light"
     },
     "output_type": "display_data"
    },
    {
     "name": "stdout",
     "output_type": "stream",
     "text": [
      "Max_trend : 384750.0\n",
      "Min_Trend : -219250.0\n",
      "Salary : [5000, 10000, 9000, 8000, 11000, 600000]\n"
     ]
    }
   ],
   "source": [
    "exp=[1,3,5,7,9,11]\n",
    "salary=[5000,10000,9000,8000,11000,600000]\n",
    "print(\"Quantiles :\",s.quantiles(salary))\n",
    "plt.scatter(salary,exp)\n",
    "Q1,Q2,Q3=s.quantiles(salary)\n",
    "plt.show()\n",
    "# Max_trend=Q3+1.5*(Q3-Q1)\n",
    "Max_trend=Q3+1.5*(Q3-Q1)\n",
    "print(\"Max_trend :\",Max_trend)\n",
    "# Min_trend=Q1-1.5*(Q3-Q1)\n",
    "Min_trend=Q1-1.5*(Q3-Q1)\n",
    "print(\"Min_Trend :\",Min_trend)\n",
    "print(\"Salary :\",salary)"
   ]
  },
  {
   "cell_type": "code",
   "execution_count": 6,
   "id": "e25d57e1-b4af-4105-a263-1670bdda0d22",
   "metadata": {},
   "outputs": [
    {
     "name": "stdout",
     "output_type": "stream",
     "text": [
      "Quantiles : [6500.0, 9000.0, 10500.0]\n"
     ]
    },
    {
     "data": {
      "image/png": "[encoded data removed]",
      "text/plain": [
       "<Figure size 432x288 with 1 Axes>"
      ]
     },
     "metadata": {
      "needs_background": "light"
     },
     "output_type": "display_data"
    },
    {
     "name": "stdout",
     "output_type": "stream",
     "text": [
      "Max_trend : 16500.0\n",
      "Min_Trend : 500.0\n",
      "Salary : [5000, 10000, 9000, 8000, 11000]\n"
     ]
    }
   ],
   "source": [
    "exp=[1,3,5,7,9]\n",
    "salary=[5000,10000,9000,8000,11000]\n",
    "print(\"Quantiles :\",s.quantiles(salary))\n",
    "plt.scatter(salary,exp)\n",
    "Q1,Q2,Q3=s.quantiles(salary)\n",
    "plt.show()\n",
    "# Max_trend=Q3+1.5*(Q3-Q1)\n",
    "Max_trend=Q3+1.5*(Q3-Q1)\n",
    "print(\"Max_trend :\",Max_trend)\n",
    "# Min_trend=Q1-1.5*(Q3-Q1)\n",
    "Min_trend=Q1-1.5*(Q3-Q1)\n",
    "print(\"Min_Trend :\",Min_trend)\n",
    "print(\"Salary :\",salary)"
   ]
  },
  {
   "cell_type": "code",
   "execution_count": 7,
   "id": "b18a15ad-64ee-4a77-9342-28f867fbb4e4",
   "metadata": {},
   "outputs": [],
   "source": [
    "import random\n",
    "salary1=[random.randint(5000,10000) for i in range(10000)]"
   ]
  },
  {
   "cell_type": "code",
   "execution_count": 8,
   "id": "d22f17e3-1368-4a07-817a-002ba1b3a92b",
   "metadata": {},
   "outputs": [],
   "source": [
    "salary2=[random.randint(100000,200000) for i in range(20)]"
   ]
  },
  {
   "cell_type": "code",
   "execution_count": 9,
   "id": "4fb569e6-ad5b-4188-bd27-20f3b39604a8",
   "metadata": {},
   "outputs": [],
   "source": [
    "salary3=salary1+salary2"
   ]
  },
  {
   "cell_type": "code",
   "execution_count": 10,
   "id": "7cb49ab0-ab57-4e77-98ea-62d735097f62",
   "metadata": {},
   "outputs": [
    {
     "data": {
      "text/plain": [
       "10020"
      ]
     },
     "execution_count": 10,
     "metadata": {},
     "output_type": "execute_result"
    }
   ],
   "source": [
    "len(salary3)"
   ]
  },
  {
   "cell_type": "code",
   "execution_count": 11,
   "id": "841a42c8-af7d-482c-807d-e19a077ef89d",
   "metadata": {},
   "outputs": [
    {
     "name": "stdout",
     "output_type": "stream",
     "text": [
      "Quantiles : [6233.0, 7453.0, 8704.75]\n"
     ]
    },
    {
     "data": {
      "image/png": "[encoded data removed]",
      "text/plain": [
       "<Figure size 432x288 with 1 Axes>"
      ]
     },
     "metadata": {
      "needs_background": "light"
     },
     "output_type": "display_data"
    },
    {
     "name": "stdout",
     "output_type": "stream",
     "text": [
      "Max_trend : 12412.375\n",
      "Min_Trend : 2525.375\n"
     ]
    }
   ],
   "source": [
    "exp=[1,3,5,7,9]\n",
    "print(\"Quantiles :\",s.quantiles(salary3))\n",
    "exp=[i for i in range(10020)]\n",
    "plt.scatter(salary3,exp)\n",
    "Q1,Q2,Q3=s.quantiles(salary3)\n",
    "plt.show()\n",
    "# Max_trend=Q3+1.5*(Q3-Q1)\n",
    "Max_trend=Q3+1.5*(Q3-Q1)\n",
    "print(\"Max_trend :\",Max_trend)\n",
    "# Min_trend=Q1-1.5*(Q3-Q1)\n",
    "Min_trend=Q1-1.5*(Q3-Q1)\n",
    "print(\"Min_Trend :\",Min_trend)\n",
    "# print(\"Salary :\",salary3)"
   ]
  },
  {
   "cell_type": "code",
   "execution_count": 12,
   "id": "4b2f46b6-6896-487c-b43b-185424c81165",
   "metadata": {},
   "outputs": [],
   "source": [
    "salary4analysis=[]\n",
    "salary5outlier=[]\n",
    "for i in salary3:\n",
    "    if Min_trend<i<Max_trend:\n",
    "        salary4analysis.append(i)\n",
    "    else:\n",
    "        salary5outlier.append(i)"
   ]
  },
  {
   "cell_type": "code",
   "execution_count": null,
   "id": "299ed168-215c-4bbe-bf03-459ddcd2affa",
   "metadata": {},
   "outputs": [],
   "source": []
  },
  {
   "cell_type": "markdown",
   "id": "87335290-b8c8-495e-8b23-eeb57e290d04",
   "metadata": {},
   "source": [
    "# Numpy"
   ]
  },
  {
   "cell_type": "markdown",
   "id": "6978206b-4bc1-4ccc-b084-d5da2d780c4f",
   "metadata": {},
   "source": [
    "difference between structure and unstructure data.\n",
    "\n",
    "structure data: labeled \n",
    "\n",
    "unstructure data: unlabeled"
   ]
  },
  {
   "cell_type": "code",
   "execution_count": 19,
   "id": "39e9d35a-fe0d-474e-b237-a7d6ed77eccb",
   "metadata": {},
   "outputs": [],
   "source": [
    "import numpy as np"
   ]
  },
  {
   "cell_type": "code",
   "execution_count": 20,
   "id": "e927ef81-ae49-4585-9a3d-b85b2681a334",
   "metadata": {},
   "outputs": [
    {
     "data": {
      "text/plain": [
       "array(10)"
      ]
     },
     "execution_count": 20,
     "metadata": {},
     "output_type": "execute_result"
    }
   ],
   "source": [
    "np.array(10)   # scaler array"
   ]
  },
  {
   "cell_type": "code",
   "execution_count": null,
   "id": "48960cc7-8030-4f1f-a8d6-752a3ae9192b",
   "metadata": {},
   "outputs": [],
   "source": [
    "scaler array  : \n",
    "\n",
    "vector array\n",
    "\n",
    "metrix"
   ]
  },
  {
   "cell_type": "code",
   "execution_count": 21,
   "id": "1f8235d3-213d-454c-af16-aa1cec115ccb",
   "metadata": {},
   "outputs": [
    {
     "data": {
      "text/plain": [
       "array([1, 2, 3, 4, 5])"
      ]
     },
     "execution_count": 21,
     "metadata": {},
     "output_type": "execute_result"
    }
   ],
   "source": [
    "np.array([1,2,3,4,5])    #vector "
   ]
  },
  {
   "cell_type": "code",
   "execution_count": 33,
   "id": "6c0912f3-8b0f-4b8a-9c44-cb148aab8364",
   "metadata": {},
   "outputs": [
    {
     "data": {
      "text/plain": [
       "array([[1, 2, 3],\n",
       "       [4, 5, 6]])"
      ]
     },
     "execution_count": 33,
     "metadata": {},
     "output_type": "execute_result"
    }
   ],
   "source": [
    "np.array([[1,2,3],[4,5,6]]) # metrix"
   ]
  },
  {
   "cell_type": "code",
   "execution_count": 34,
   "id": "fc936539-acbe-4e47-abc6-ef65e6ea81a5",
   "metadata": {},
   "outputs": [],
   "source": [
    "a=np.array([i for i in range(1,10)])   # vector array"
   ]
  },
  {
   "cell_type": "code",
   "execution_count": 29,
   "id": "f3997cfe-dea8-4ece-816e-a621a26054b2",
   "metadata": {},
   "outputs": [
    {
     "data": {
      "text/plain": [
       "array([1, 2, 3, 4, 5, 6, 7, 8, 9])"
      ]
     },
     "execution_count": 29,
     "metadata": {},
     "output_type": "execute_result"
    }
   ],
   "source": [
    "a"
   ]
  },
  {
   "cell_type": "code",
   "execution_count": 40,
   "id": "f3ad4d26-fe4c-4239-8ec5-dcb053659ed7",
   "metadata": {},
   "outputs": [],
   "source": [
    "b=np.array([\"krishna\",\"mohan\",\"sohan\",\"Rohan\",\"Chiku\",\"piku\",\"pintu\",\"chintu\",\"sonu\"])  # vector array"
   ]
  },
  {
   "cell_type": "code",
   "execution_count": 41,
   "id": "627b30a9-b1e2-4e18-bd96-74582fa7aeed",
   "metadata": {},
   "outputs": [
    {
     "data": {
      "text/plain": [
       "array(['krishna', 'mohan', 'sohan', 'Rohan', 'Chiku', 'piku', 'pintu',\n",
       "       'chintu', 'sonu'], dtype='<U7')"
      ]
     },
     "execution_count": 41,
     "metadata": {},
     "output_type": "execute_result"
    }
   ],
   "source": [
    "b"
   ]
  },
  {
   "cell_type": "code",
   "execution_count": 42,
   "id": "78f395ed-e48f-4b74-a450-9437d8be735e",
   "metadata": {},
   "outputs": [
    {
     "name": "stdout",
     "output_type": "stream",
     "text": [
      "{1: 'krishna', 2: 'mohan', 3: 'sohan', 4: 'Rohan', 5: 'Chiku', 6: 'piku', 7: 'pintu', 8: 'chintu', 9: 'sonu'}\n"
     ]
    }
   ],
   "source": [
    "print({i:j for i,j in zip(a,b)})\n"
   ]
  },
  {
   "cell_type": "code",
   "execution_count": 43,
   "id": "77ea26b4-8e32-48a2-8bf8-3a0bb35598bc",
   "metadata": {},
   "outputs": [],
   "source": [
    "import pandas as pd"
   ]
  },
  {
   "cell_type": "code",
   "execution_count": 49,
   "id": "7f30ad02-2f28-46b1-b55c-8df85e40af1e",
   "metadata": {},
   "outputs": [
    {
     "data": {
      "text/html": [
       "<div>\n",
       "<style scoped>\n",
       "    .dataframe tbody tr th:only-of-type {\n",
       "        vertical-align: middle;\n",
       "    }\n",
       "\n",
       "    .dataframe tbody tr th {\n",
       "        vertical-align: top;\n",
       "    }\n",
       "\n",
       "    .dataframe thead th {\n",
       "        text-align: right;\n",
       "    }\n",
       "</style>\n",
       "<table border=\"1\" class=\"dataframe\">\n",
       "  <thead>\n",
       "    <tr style=\"text-align: right;\">\n",
       "      <th></th>\n",
       "      <th>roll</th>\n",
       "      <th>name</th>\n",
       "      <th>weight</th>\n",
       "    </tr>\n",
       "  </thead>\n",
       "  <tbody>\n",
       "    <tr>\n",
       "      <th>0</th>\n",
       "      <td>1</td>\n",
       "      <td>krishna</td>\n",
       "      <td>78</td>\n",
       "    </tr>\n",
       "    <tr>\n",
       "      <th>1</th>\n",
       "      <td>2</td>\n",
       "      <td>mohan</td>\n",
       "      <td>71</td>\n",
       "    </tr>\n",
       "    <tr>\n",
       "      <th>2</th>\n",
       "      <td>3</td>\n",
       "      <td>sohan</td>\n",
       "      <td>34</td>\n",
       "    </tr>\n",
       "  </tbody>\n",
       "</table>\n",
       "</div>"
      ],
      "text/plain": [
       "   roll      name  weight\n",
       "0      1  krishna      78\n",
       "1      2    mohan      71\n",
       "2      3    sohan      34"
      ]
     },
     "execution_count": 49,
     "metadata": {},
     "output_type": "execute_result"
    }
   ],
   "source": [
    "df=pd.read_excel(r\"C:\\Users\\Ducat\\Desktop\\Book1.xlsx\")\n",
    "df"
   ]
  },
  {
   "cell_type": "code",
   "execution_count": 50,
   "id": "f6fa2d70-d147-4dfc-8065-6b1093a93651",
   "metadata": {},
   "outputs": [
    {
     "data": {
      "text/plain": [
       "array([[1, 'krishna', 78],\n",
       "       [2, 'mohan', 71],\n",
       "       [3, 'sohan', 34]], dtype=object)"
      ]
     },
     "execution_count": 50,
     "metadata": {},
     "output_type": "execute_result"
    }
   ],
   "source": [
    "np.array(df)   # application of 2d array is use to read tabuler data"
   ]
  },
  {
   "cell_type": "code",
   "execution_count": 51,
   "id": "631605fe-4559-43da-ab8c-bde3501e6b86",
   "metadata": {},
   "outputs": [
    {
     "data": {
      "text/plain": [
       "array([[[1, 2, 3],\n",
       "        [3, 2, 3]],\n",
       "\n",
       "       [[5, 6, 4],\n",
       "        [4, 5, 6]]])"
      ]
     },
     "execution_count": 51,
     "metadata": {},
     "output_type": "execute_result"
    }
   ],
   "source": [
    "np.array([[[1,2,3],[3,2,3]],[[5,6,4],[4,5,6]]])  # application of 3 D array"
   ]
  },
  {
   "cell_type": "markdown",
   "id": "d17d1174-283b-468a-ac83-2b8350e6ba3e",
   "metadata": {},
   "source": [
    "# 7 point of analyis\n",
    "\n",
    "q1\n",
    "\n",
    "q2\n",
    "\n",
    "q3\n",
    "\n",
    "IQR(Inter Quantiles Range) ==> (Q3-Q1)\n",
    "\n",
    "max_trend \n",
    "\n",
    "min_trend\n",
    "\n",
    "outlier"
   ]
  },
  {
   "cell_type": "code",
   "execution_count": null,
   "id": "97a2e160-a4a9-40d3-b804-d8ba133e3797",
   "metadata": {},
   "outputs": [],
   "source": []
  }
 ],
 "metadata": {
  "kernelspec": {
   "display_name": "Python 3 (ipykernel)",
   "language": "python",
   "name": "python3"
  },
  "language_info": {
   "codemirror_mode": {
    "name": "ipython",
    "version": 3
   },
   "file_extension": ".py",
   "mimetype": "text/x-python",
   "name": "python",
   "nbconvert_exporter": "python",
   "pygments_lexer": "ipython3",
   "version": "3.9.12"
  }
 },
 "nbformat": 4,
 "nbformat_minor": 5
}
