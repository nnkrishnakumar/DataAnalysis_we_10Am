{
 "cells": [
  {
   "cell_type": "markdown",
   "id": "429f1a82-cc85-4ff0-888c-9b4b9b6df43d",
   "metadata": {},
   "source": [
    "Numpy help us to do metrix calculation which is written in C++\n",
    "\n",
    "Python provide wrapper on Numpy to use it in python.\n",
    "\n",
    "that means we can do matrix calculation in faster manner.\n",
    "\n",
    "Numpy is 3rd party package created by a college student for college project Travis Oliphant in 2005.\n",
    "\n",
    "Beacuse it is a third party package we have to install it using pip dependency manage from python.org website.\n",
    "\n",
    "Numpy is open-source.\n",
    "\n",
    "It help us to read unstructured(where column heading is not defined) data.\n",
    "\n",
    "array are of three type:\n",
    "\n",
    "> scaler array\n",
    "\n",
    "> vector array\n",
    "\n",
    "> matrix \n",
    "\n",
    "we have to import numpy module and if needed can alise also"
   ]
  },
  {
   "cell_type": "code",
   "execution_count": 1,
   "id": "285810ef-13bf-496a-8111-ce513fefb068",
   "metadata": {},
   "outputs": [],
   "source": [
    "import numpy as np"
   ]
  },
  {
   "cell_type": "code",
   "execution_count": 5,
   "id": "adc358a9-3465-4592-851a-339ce73befd9",
   "metadata": {},
   "outputs": [
    {
     "name": "stdout",
     "output_type": "stream",
     "text": [
      "[10 20 30]\n",
      "<class 'numpy.ndarray'>\n"
     ]
    }
   ],
   "source": [
    "a=np.array([10,20,30])\n",
    "print(a)\n",
    "print(type(a))"
   ]
  },
  {
   "cell_type": "markdown",
   "id": "d71e5b1e-732b-49a0-a6af-528742d47205",
   "metadata": {},
   "source": [
    "# array which contain integer and string\n"
   ]
  },
  {
   "cell_type": "code",
   "execution_count": 11,
   "id": "d696a06d-ea2c-4328-92be-d18eabc7af82",
   "metadata": {},
   "outputs": [
    {
     "name": "stdout",
     "output_type": "stream",
     "text": [
      "['10' '20' 'krishna']\n"
     ]
    }
   ],
   "source": [
    "b=np.array([10,20,'krishna'])\n",
    "print(b)"
   ]
  },
  {
   "cell_type": "code",
   "execution_count": 13,
   "id": "e58412a5-7c30-419c-a537-7a8612692f2a",
   "metadata": {},
   "outputs": [
    {
     "data": {
      "text/plain": [
       "array([1. , 2. , 3. , 4.4])"
      ]
     },
     "execution_count": 13,
     "metadata": {},
     "output_type": "execute_result"
    }
   ],
   "source": [
    "c=np.array([1,2,3,4.40])\n",
    "c"
   ]
  },
  {
   "cell_type": "markdown",
   "id": "6a90b72f-bd27-464f-88f8-18c069969e3a",
   "metadata": {},
   "source": [
    "# array conversion into int"
   ]
  },
  {
   "cell_type": "code",
   "execution_count": 39,
   "id": "1920bef7-7d73-4ae9-88f0-d8f294fc75cd",
   "metadata": {},
   "outputs": [
    {
     "data": {
      "text/plain": [
       "array([1, 2, 3, 4])"
      ]
     },
     "execution_count": 39,
     "metadata": {},
     "output_type": "execute_result"
    }
   ],
   "source": [
    "d=np.array([1,2,3,4.40],dtype=np.int32)   # interger conversion of all the data \n",
    "d"
   ]
  },
  {
   "cell_type": "code",
   "execution_count": 40,
   "id": "3d50f891-3ea6-42fa-8188-343c7554ab29",
   "metadata": {},
   "outputs": [
    {
     "data": {
      "text/plain": [
       "array([1. , 2. , 3. , 4.4], dtype=float32)"
      ]
     },
     "execution_count": 40,
     "metadata": {},
     "output_type": "execute_result"
    }
   ],
   "source": [
    "e=np.array([1,2,3,4.40],dtype=np.float32)   # float conversion of all the data\n",
    "e"
   ]
  },
  {
   "cell_type": "code",
   "execution_count": 41,
   "id": "d671ddcc-c64c-48ec-b893-5a0115cfb523",
   "metadata": {},
   "outputs": [
    {
     "data": {
      "text/plain": [
       "array([b'1', b'2', b'3', b'4.4'], dtype='|S3')"
      ]
     },
     "execution_count": 41,
     "metadata": {},
     "output_type": "execute_result"
    }
   ],
   "source": [
    "f=np.array([1,2,3,4.40],dtype=np.string_)\n",
    "f"
   ]
  },
  {
   "cell_type": "code",
   "execution_count": 59,
   "id": "30a303c2-fbe7-480a-bf98-bb7135ebdc6f",
   "metadata": {},
   "outputs": [
    {
     "data": {
      "text/plain": [
       "[1, 3, 5, 7, 9]"
      ]
     },
     "execution_count": 59,
     "metadata": {},
     "output_type": "execute_result"
    }
   ],
   "source": [
    "[i for i in range(1,10,2)]"
   ]
  },
  {
   "cell_type": "code",
   "execution_count": 63,
   "id": "da370497-4b20-4ae8-be3f-3448f8cda60e",
   "metadata": {},
   "outputs": [
    {
     "data": {
      "text/plain": [
       "array([0, 0, 0, 0, 0, 0, 0, 0, 0, 0], dtype=int16)"
      ]
     },
     "execution_count": 63,
     "metadata": {},
     "output_type": "execute_result"
    }
   ],
   "source": [
    "a=np.array(np.zeros(10),dtype=np.int16)\n",
    "a"
   ]
  },
  {
   "cell_type": "code",
   "execution_count": 64,
   "id": "1ebfe49b-cc41-435c-b1e4-8dfbbbb2f077",
   "metadata": {},
   "outputs": [
    {
     "data": {
      "text/plain": [
       "array([0, 0, 0, 0, 0, 0, 0, 0, 0, 0], dtype=int16)"
      ]
     },
     "execution_count": 64,
     "metadata": {},
     "output_type": "execute_result"
    }
   ],
   "source": [
    "np.zeros(10,dtype=np.int16)"
   ]
  },
  {
   "cell_type": "code",
   "execution_count": 66,
   "id": "7e4a3fbe-b5c1-4b61-985e-3aa8cf6a8c78",
   "metadata": {},
   "outputs": [
    {
     "data": {
      "text/plain": [
       "array(['1', '1', '1', '1', '1', '1', '1', '1', '1', '1'], dtype='<U1')"
      ]
     },
     "execution_count": 66,
     "metadata": {},
     "output_type": "execute_result"
    }
   ],
   "source": [
    "np.ones(10,dtype=np.str_)"
   ]
  },
  {
   "cell_type": "code",
   "execution_count": 67,
   "id": "34b2b873-16e5-4985-86bd-7b0db41b91d9",
   "metadata": {},
   "outputs": [
    {
     "data": {
      "text/plain": [
       "array([2, 2, 2, 2, 2, 2, 2, 2, 2, 2], dtype=int16)"
      ]
     },
     "execution_count": 67,
     "metadata": {},
     "output_type": "execute_result"
    }
   ],
   "source": [
    "np.full(10,2, dtype=np.int16)"
   ]
  },
  {
   "cell_type": "code",
   "execution_count": 68,
   "id": "0b698825-b9e1-423b-9bcf-1e948a796966",
   "metadata": {},
   "outputs": [
    {
     "data": {
      "text/plain": [
       "array([1000, 1000, 1000, 1000])"
      ]
     },
     "execution_count": 68,
     "metadata": {},
     "output_type": "execute_result"
    }
   ],
   "source": [
    "np.full(4,1000)"
   ]
  },
  {
   "cell_type": "markdown",
   "id": "58a0b2f4-5a5d-4e09-aae1-a6c339eb99b7",
   "metadata": {},
   "source": [
    "# scaler, vector, matrix"
   ]
  },
  {
   "cell_type": "code",
   "execution_count": 78,
   "id": "d2a379bc-1ba8-4a7e-8556-07989318a1b4",
   "metadata": {},
   "outputs": [
    {
     "name": "stdout",
     "output_type": "stream",
     "text": [
      "10\n",
      "No. of dimension : 0\n"
     ]
    }
   ],
   "source": [
    "a=np.array(10)   # this is called scaler \n",
    "print(a)\n",
    "print(\"No. of dimension :\",a.ndim)"
   ]
  },
  {
   "cell_type": "code",
   "execution_count": 79,
   "id": "50b6900f-71d0-4ec1-a07d-7542a40f57c1",
   "metadata": {},
   "outputs": [
    {
     "name": "stdout",
     "output_type": "stream",
     "text": [
      "[10 12 13]\n",
      "No. of dimension : 1\n"
     ]
    }
   ],
   "source": [
    "b=np.array([10,12,13])  # this is called vector\n",
    "print(b)\n",
    "print(\"No. of dimension :\",b.ndim)"
   ]
  },
  {
   "cell_type": "code",
   "execution_count": 80,
   "id": "ba5cd383-2230-4f02-80d4-5c4d9d7d08d0",
   "metadata": {},
   "outputs": [
    {
     "name": "stdout",
     "output_type": "stream",
     "text": [
      "[[1 2 3]\n",
      " [2 3 4]]\n",
      "No. of dimension : 2\n"
     ]
    }
   ],
   "source": [
    "c=np.array([[1,2,3],[2,3,4]])  # this is called multidimensional array or matrix\n",
    "print(c)\n",
    "print(\"No. of dimension :\",c.ndim)"
   ]
  },
  {
   "cell_type": "code",
   "execution_count": 81,
   "id": "97686664-ca33-4fdc-9d6b-c96c52d10802",
   "metadata": {},
   "outputs": [
    {
     "name": "stdout",
     "output_type": "stream",
     "text": [
      "[[[1 2 3]\n",
      "  [4 5 6]]\n",
      "\n",
      " [[7 8 9]\n",
      "  [0 1 2]]]\n",
      "No. of dimension : 3\n"
     ]
    }
   ],
   "source": [
    "c=np.array([[[1,2,3],[4,5,6]],[[7,8,9],[0,1,2]]])\n",
    "print(c)\n",
    "print(\"No. of dimension :\",c.ndim)"
   ]
  },
  {
   "cell_type": "code",
   "execution_count": 86,
   "id": "5544d2ef-f001-43d8-9331-f6bba16cfa50",
   "metadata": {},
   "outputs": [
    {
     "data": {
      "text/plain": [
       "array([[[6, 6, 2],\n",
       "        [9, 8, 2]],\n",
       "\n",
       "       [[9, 5, 1],\n",
       "        [2, 9, 2]]])"
      ]
     },
     "execution_count": 86,
     "metadata": {},
     "output_type": "execute_result"
    }
   ],
   "source": [
    "np.random.randint(1,10,(2,2,3))"
   ]
  },
  {
   "cell_type": "code",
   "execution_count": 100,
   "id": "a2ebcd4f-f2cf-4dff-9ead-a62f33dcd7b7",
   "metadata": {},
   "outputs": [],
   "source": [
    "# aadharcard=([np.array(np.random.randint(111111111111,999999999999),dtype=np.int64) for i in range(20)])"
   ]
  },
  {
   "cell_type": "code",
   "execution_count": null,
   "id": "bc4d14c2-1d34-4999-926f-2a13cc302883",
   "metadata": {},
   "outputs": [],
   "source": []
  },
  {
   "cell_type": "code",
   "execution_count": 103,
   "id": "8f23033b-ca81-4ec4-86ee-e726d1d43c3c",
   "metadata": {},
   "outputs": [
    {
     "name": "stdout",
     "output_type": "stream",
     "text": [
      "[448095776, 74425898, 959883723, 296948751, 560405256, 171264515, 308075734, 868344751, 251253625, 914945716, 381570913, 696548200, 863551220, 327689381, 783536843, 839915604, 71782402, 221919916, 915388340, 551049296]\n"
     ]
    }
   ],
   "source": [
    "print([np.random.randint(1000000,999944444) for i in range(20)])"
   ]
  },
  {
   "cell_type": "code",
   "execution_count": 112,
   "id": "04b31ffb-e944-4d00-891f-7aff7ce1ff59",
   "metadata": {},
   "outputs": [
    {
     "data": {
      "text/plain": [
       "array([14, 96, 31, 22, 65, 98, 96,  5, 25, 41, 55, 34, 34, 39, 36, 56, 70,\n",
       "       56, 97, 45, 72, 18, 13, 43, 26, 83, 36, 19, 64, 82, 73, 17, 38, 35,\n",
       "       23, 78, 95, 98, 13, 16, 20, 34, 34, 26, 13, 10, 97, 75, 19, 48])"
      ]
     },
     "execution_count": 112,
     "metadata": {},
     "output_type": "execute_result"
    }
   ],
   "source": [
    "np.random.randint(1,100,50)"
   ]
  },
  {
   "cell_type": "code",
   "execution_count": 120,
   "id": "f1f33103-a750-46dd-bbb0-e77d9799b3df",
   "metadata": {},
   "outputs": [
    {
     "data": {
      "text/plain": [
       "array([28.46, 25.65, 57.46, 19.06, 38.16, 63.98, 39.18, 25.99, 24.06,\n",
       "        3.33, 23.48, 80.62, 90.25, 60.36, 41.54, 71.59, 65.89, 51.1 ,\n",
       "       72.97, 31.52, 43.48,  6.99, 91.56, 44.73, 69.62, 81.67, 90.52,\n",
       "       38.21, 44.44, 55.61, 18.05, 23.74, 75.12, 38.13, 61.56, 66.23,\n",
       "        1.67, 63.44, 95.36, 49.07, 31.75, 94.2 , 71.08, 75.77, 35.38,\n",
       "       70.37, 53.17, 31.53, 22.09, 66.35])"
      ]
     },
     "execution_count": 120,
     "metadata": {},
     "output_type": "execute_result"
    }
   ],
   "source": [
    "np.round(np.random.uniform(1,100,50),decimals=2)"
   ]
  },
  {
   "cell_type": "code",
   "execution_count": 119,
   "id": "00c28458-2dbd-4cc0-980e-22c6ee0aef86",
   "metadata": {},
   "outputs": [
    {
     "data": {
      "text/plain": [
       "array([12., 27.,  7., 51., 68., 68., 74., 36., 84., 27., 56., 15., 78.,\n",
       "       49., 52., 60., 99.,  1., 56., 20., 46., 28., 54., 58., 51., 11.,\n",
       "       11., 69.,  7., 78., 97., 21., 48., 17., 80., 96., 89., 21., 23.,\n",
       "       48., 86., 94., 69., 39., 93., 68., 67., 62., 53., 78.])"
      ]
     },
     "execution_count": 119,
     "metadata": {},
     "output_type": "execute_result"
    }
   ],
   "source": [
    "np.round(np.array(np.random.randint(1,100,50,), dtype=np.float64))"
   ]
  },
  {
   "cell_type": "code",
   "execution_count": null,
   "id": "5984cb89-79c9-4e2c-a16b-912310c51451",
   "metadata": {},
   "outputs": [],
   "source": []
  }
 ],
 "metadata": {
  "kernelspec": {
   "display_name": "Python 3 (ipykernel)",
   "language": "python",
   "name": "python3"
  },
  "language_info": {
   "codemirror_mode": {
    "name": "ipython",
    "version": 3
   },
   "file_extension": ".py",
   "mimetype": "text/x-python",
   "name": "python",
   "nbconvert_exporter": "python",
   "pygments_lexer": "ipython3",
   "version": "3.9.12"
  }
 },
 "nbformat": 4,
 "nbformat_minor": 5
}
